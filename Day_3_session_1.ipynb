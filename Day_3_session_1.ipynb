{
  "nbformat": 4,
  "nbformat_minor": 0,
  "metadata": {
    "colab": {
      "name": " Day 3 session 1 ",
      "provenance": [],
      "collapsed_sections": [],
      "authorship_tag": "ABX9TyPP4OHbexDR5DMDceNAlI7F",
      "include_colab_link": true
    },
    "kernelspec": {
      "name": "python3",
      "display_name": "Python 3"
    }
  },
  "cells": [
    {
      "cell_type": "markdown",
      "metadata": {
        "id": "view-in-github",
        "colab_type": "text"
      },
      "source": [
        "<a href=\"https://colab.research.google.com/github/nivi-nivedita/python-workshop/blob/master/Day_3_session_1.ipynb\" target=\"_parent\"><img src=\"https://colab.research.google.com/assets/colab-badge.svg\" alt=\"Open In Colab\"/></a>"
      ]
    },
    {
      "cell_type": "markdown",
      "metadata": {
        "id": "y6jHhWAM1vlj",
        "colab_type": "text"
      },
      "source": [
        "#Program for prime number -bad code"
      ]
    },
    {
      "cell_type": "code",
      "metadata": {
        "id": "87dZhyHe10yG",
        "colab_type": "code",
        "colab": {
          "base_uri": "https://localhost:8080/",
          "height": 34
        },
        "outputId": "60504a4d-503c-4be9-b9eb-68243dcc2d2b"
      },
      "source": [
        "i=25\n",
        "for x in range(2, i//2+1):\n",
        "      if i%x==0:\n",
        "         print(\"The number {} is not prime\".format(i))\n",
        "         break\n",
        "if x ==i//2:\n",
        "   print (\"{} is a prime number\".format(i))"
      ],
      "execution_count": 1,
      "outputs": [
        {
          "output_type": "stream",
          "text": [
            "The number 25 is not prime\n"
          ],
          "name": "stdout"
        }
      ]
    },
    {
      "cell_type": "markdown",
      "metadata": {
        "id": "-HQ_SiC01_Bq",
        "colab_type": "text"
      },
      "source": [
        "#Good code using for... else"
      ]
    },
    {
      "cell_type": "code",
      "metadata": {
        "id": "Km5yBhYD2DoV",
        "colab_type": "code",
        "colab": {
          "base_uri": "https://localhost:8080/",
          "height": 34
        },
        "outputId": "a779bb48-b083-46f2-d742-0b105f21e5a2"
      },
      "source": [
        "i=25\n",
        "for x in range(2, i//2+1):\n",
        "      if i%x==0:\n",
        "         print(\"The number {} is not prime\".format(i))\n",
        "         break\n",
        "else:\n",
        "    print (\"{} is a prime number\".format(i))\n"
      ],
      "execution_count": 2,
      "outputs": [
        {
          "output_type": "stream",
          "text": [
            "The number 25 is not prime\n"
          ],
          "name": "stdout"
        }
      ]
    },
    {
      "cell_type": "markdown",
      "metadata": {
        "id": "mT9AEGEF2Hxo",
        "colab_type": "text"
      },
      "source": [
        "#Using Unpacking to Write Concise Code"
      ]
    },
    {
      "cell_type": "code",
      "metadata": {
        "id": "k1s7oAGK2LTn",
        "colab_type": "code",
        "colab": {
          "base_uri": "https://localhost:8080/",
          "height": 51
        },
        "outputId": "6cdd5fdd-8731-4b09-d857-d8d7359a2a13"
      },
      "source": [
        "a, b = 2, 'my-string'\n",
        "print(a)\n",
        "print(b)\n"
      ],
      "execution_count": 3,
      "outputs": [
        {
          "output_type": "stream",
          "text": [
            "2\n",
            "my-string\n"
          ],
          "name": "stdout"
        }
      ]
    },
    {
      "cell_type": "markdown",
      "metadata": {
        "id": "vwGE8vUT2PrY",
        "colab_type": "text"
      },
      "source": [
        "#Bad unpacking"
      ]
    },
    {
      "cell_type": "code",
      "metadata": {
        "id": "_JAJ6X7A2UMg",
        "colab_type": "code",
        "colab": {
          "base_uri": "https://localhost:8080/",
          "height": 34
        },
        "outputId": "42ae11d4-dadf-4132-c1f5-b64585e5271f"
      },
      "source": [
        "x = (1, 2, 4, 8, 16)\n",
        "a = x[0]\n",
        "b = x[1]\n",
        "c = x[2]\n",
        "d = x[3]\n",
        "e = x[4]\n",
        "print(a, b, c, d, e)"
      ],
      "execution_count": 4,
      "outputs": [
        {
          "output_type": "stream",
          "text": [
            "1 2 4 8 16\n"
          ],
          "name": "stdout"
        }
      ]
    },
    {
      "cell_type": "markdown",
      "metadata": {
        "id": "2PdZAnTw2XdR",
        "colab_type": "text"
      },
      "source": [
        "#Excellent unpacking"
      ]
    },
    {
      "cell_type": "code",
      "metadata": {
        "id": "mAX0wpeY2dvU",
        "colab_type": "code",
        "colab": {
          "base_uri": "https://localhost:8080/",
          "height": 34
        },
        "outputId": "c97482d8-5e3c-436a-f9fd-ceb37064a19c"
      },
      "source": [
        "a,b,c,d,e=x\n",
        "print(a, b, c, d, e)"
      ],
      "execution_count": 5,
      "outputs": [
        {
          "output_type": "stream",
          "text": [
            "1 2 4 8 16\n"
          ],
          "name": "stdout"
        }
      ]
    },
    {
      "cell_type": "markdown",
      "metadata": {
        "id": "A4vhcL6f2hQc",
        "colab_type": "text"
      },
      "source": [
        "#unpacking some elements"
      ]
    },
    {
      "cell_type": "code",
      "metadata": {
        "id": "4st2qhJJ2kW6",
        "colab_type": "code",
        "colab": {
          "base_uri": "https://localhost:8080/",
          "height": 67
        },
        "outputId": "612074ae-05ff-470d-9d72-9f149b0a1d5c"
      },
      "source": [
        "a, *y, e = x\n",
        "print(a)\n",
        "print(y)\n",
        "print(e)\n"
      ],
      "execution_count": 6,
      "outputs": [
        {
          "output_type": "stream",
          "text": [
            "1\n",
            "[2, 4, 8]\n",
            "16\n"
          ],
          "name": "stdout"
        }
      ]
    },
    {
      "cell_type": "markdown",
      "metadata": {
        "id": "gZIQDQHI2ntN",
        "colab_type": "text"
      },
      "source": [
        "#Using Chaining to Write Concise Code"
      ]
    },
    {
      "cell_type": "code",
      "metadata": {
        "id": "KKSYKGUM2qzO",
        "colab_type": "code",
        "colab": {
          "base_uri": "https://localhost:8080/",
          "height": 34
        },
        "outputId": "85744f3c-235e-4a76-c14d-6d703d85f728"
      },
      "source": [
        "x = 4\n",
        "print(x >= 2 and x <= 8)"
      ],
      "execution_count": 7,
      "outputs": [
        {
          "output_type": "stream",
          "text": [
            "True\n"
          ],
          "name": "stdout"
        }
      ]
    },
    {
      "cell_type": "markdown",
      "metadata": {
        "id": "M2x2Sy_b2xag",
        "colab_type": "text"
      },
      "source": [
        "#Instead, you can write this in a more compact form, like mathematicians do:"
      ]
    },
    {
      "cell_type": "code",
      "metadata": {
        "id": "pBe7Iepn20lL",
        "colab_type": "code",
        "colab": {
          "base_uri": "https://localhost:8080/",
          "height": 51
        },
        "outputId": "e04887df-216a-4bcb-83a7-d0b2bac02f26"
      },
      "source": [
        "print(2 <= x <= 8)\n",
        "print(2 <= x <= 3)"
      ],
      "execution_count": 8,
      "outputs": [
        {
          "output_type": "stream",
          "text": [
            "True\n",
            "False\n"
          ],
          "name": "stdout"
        }
      ]
    },
    {
      "cell_type": "markdown",
      "metadata": {
        "id": "G3P6pf2m24e6",
        "colab_type": "text"
      },
      "source": [
        "#chained assignments"
      ]
    },
    {
      "cell_type": "code",
      "metadata": {
        "id": "OOJBIwi528K3",
        "colab_type": "code",
        "colab": {
          "base_uri": "https://localhost:8080/",
          "height": 84
        },
        "outputId": "c47a0ca6-749e-4025-f552-abb0bb1d1495"
      },
      "source": [
        "# normal way\n",
        "x, y = 2, None\n",
        "print(x == None)\n",
        "print(y == None)\n",
        "print(x != None)\n",
        "print(y != None)\n"
      ],
      "execution_count": 9,
      "outputs": [
        {
          "output_type": "stream",
          "text": [
            "False\n",
            "True\n",
            "True\n",
            "False\n"
          ],
          "name": "stdout"
        }
      ]
    },
    {
      "cell_type": "markdown",
      "metadata": {
        "id": "SzViXgm_3B4G",
        "colab_type": "text"
      },
      "source": [
        "#In pythonic way"
      ]
    },
    {
      "cell_type": "code",
      "metadata": {
        "id": "A5_d6Mk23DC6",
        "colab_type": "code",
        "colab": {
          "base_uri": "https://localhost:8080/",
          "height": 84
        },
        "outputId": "e03977e1-bc7c-4ef4-b537-2932471582f6"
      },
      "source": [
        "x is None\n",
        "print(x is None)\n",
        "print(y is None)\n",
        "print(x is not None)\n",
        "print(y is not None)"
      ],
      "execution_count": 10,
      "outputs": [
        {
          "output_type": "stream",
          "text": [
            "False\n",
            "True\n",
            "True\n",
            "False\n"
          ],
          "name": "stdout"
        }
      ]
    },
    {
      "cell_type": "markdown",
      "metadata": {
        "id": "yt_sLouG3Fuj",
        "colab_type": "text"
      },
      "source": [
        "#Iterating over Sequences"
      ]
    },
    {
      "cell_type": "code",
      "metadata": {
        "id": "KC5xHYSX3JiI",
        "colab_type": "code",
        "colab": {
          "base_uri": "https://localhost:8080/",
          "height": 101
        },
        "outputId": "c8ebfa04-6697-4f08-8a92-a79fd11f2fce"
      },
      "source": [
        "x = [1, 2, 4, 8, 16]\n",
        "for i in range(len(x)):\n",
        "  print(x[i])"
      ],
      "execution_count": 11,
      "outputs": [
        {
          "output_type": "stream",
          "text": [
            "1\n",
            "2\n",
            "4\n",
            "8\n",
            "16\n"
          ],
          "name": "stdout"
        }
      ]
    },
    {
      "cell_type": "markdown",
      "metadata": {
        "id": "eSA6qnzw3M4l",
        "colab_type": "text"
      },
      "source": [
        "#But instead we can do like this in elegant way"
      ]
    },
    {
      "cell_type": "code",
      "metadata": {
        "id": "R9xU8rYS3U4f",
        "colab_type": "code",
        "colab": {
          "base_uri": "https://localhost:8080/",
          "height": 101
        },
        "outputId": "5909675d-3ee7-4897-8d1a-a1844c9f1c54"
      },
      "source": [
        "for item in x:\n",
        "  print(item)"
      ],
      "execution_count": 12,
      "outputs": [
        {
          "output_type": "stream",
          "text": [
            "1\n",
            "2\n",
            "4\n",
            "8\n",
            "16\n"
          ],
          "name": "stdout"
        }
      ]
    },
    {
      "cell_type": "markdown",
      "metadata": {
        "id": "J-WroJWC3X5u",
        "colab_type": "text"
      },
      "source": [
        "#to iterate in the reversed order"
      ]
    },
    {
      "cell_type": "code",
      "metadata": {
        "id": "qIfmgkEn3aYb",
        "colab_type": "code",
        "colab": {
          "base_uri": "https://localhost:8080/",
          "height": 101
        },
        "outputId": "8f3c6a0f-ff58-462d-b981-f6f3dcc70fba"
      },
      "source": [
        "for i in range(len(x)-1, -1, -1):\n",
        "  print(x[i])"
      ],
      "execution_count": 13,
      "outputs": [
        {
          "output_type": "stream",
          "text": [
            "16\n",
            "8\n",
            "4\n",
            "2\n",
            "1\n"
          ],
          "name": "stdout"
        }
      ]
    },
    {
      "cell_type": "markdown",
      "metadata": {
        "id": "64Gi0FOY3eqq",
        "colab_type": "text"
      },
      "source": [
        "#But in elegant way!"
      ]
    },
    {
      "cell_type": "code",
      "metadata": {
        "id": "3p9edFtb3hYR",
        "colab_type": "code",
        "colab": {
          "base_uri": "https://localhost:8080/",
          "height": 101
        },
        "outputId": "af127595-900d-4e11-cc08-fe21175085de"
      },
      "source": [
        "for item in x[::-1]:\n",
        "    print (item) "
      ],
      "execution_count": 16,
      "outputs": [
        {
          "output_type": "stream",
          "text": [
            "16\n",
            "8\n",
            "4\n",
            "2\n",
            "1\n"
          ],
          "name": "stdout"
        }
      ]
    },
    {
      "cell_type": "markdown",
      "metadata": {
        "id": "fgaflhqG3r6C",
        "colab_type": "text"
      },
      "source": [
        "#The Pythonic way is to use reversed to get an iterator that yields the items of a\n",
        "sequence in the reversed order:\n"
      ]
    },
    {
      "cell_type": "code",
      "metadata": {
        "id": "xmJWagqJ3wca",
        "colab_type": "code",
        "colab": {
          "base_uri": "https://localhost:8080/",
          "height": 101
        },
        "outputId": "9c7368fa-9fbb-4bde-bce3-009c177fb7fd"
      },
      "source": [
        "for item in reversed(x):\n",
        "  print(item)\n",
        "\n",
        "\n"
      ],
      "execution_count": 17,
      "outputs": [
        {
          "output_type": "stream",
          "text": [
            "16\n",
            "8\n",
            "4\n",
            "2\n",
            "1\n"
          ],
          "name": "stdout"
        }
      ]
    },
    {
      "cell_type": "markdown",
      "metadata": {
        "id": "NW8LAAEP31_l",
        "colab_type": "text"
      },
      "source": [
        "#Sometimes you need both the items from a sequence and the corresponding indices:"
      ]
    },
    {
      "cell_type": "code",
      "metadata": {
        "id": "3QUrSvHU35Yy",
        "colab_type": "code",
        "colab": {
          "base_uri": "https://localhost:8080/",
          "height": 101
        },
        "outputId": "39921e2c-e1f8-43c4-cd51-0f82c7d9de69"
      },
      "source": [
        "for i in range(len(x)):\n",
        "  print(i, x[i])"
      ],
      "execution_count": 18,
      "outputs": [
        {
          "output_type": "stream",
          "text": [
            "0 1\n",
            "1 2\n",
            "2 4\n",
            "3 8\n",
            "4 16\n"
          ],
          "name": "stdout"
        }
      ]
    },
    {
      "cell_type": "markdown",
      "metadata": {
        "id": "nzMRmbfc39Sk",
        "colab_type": "text"
      },
      "source": [
        "#It’s better to use enumerate to get another iterator that yields the tuples with the indices\n"
      ]
    },
    {
      "cell_type": "code",
      "metadata": {
        "id": "PRqjmOt-4Bs4",
        "colab_type": "code",
        "colab": {
          "base_uri": "https://localhost:8080/",
          "height": 101
        },
        "outputId": "8efaacc5-24ed-4357-e506-866296589fe0"
      },
      "source": [
        "for i, item in enumerate(x):\n",
        "  print(i, item)\n"
      ],
      "execution_count": 19,
      "outputs": [
        {
          "output_type": "stream",
          "text": [
            "0 1\n",
            "1 2\n",
            "2 4\n",
            "3 8\n",
            "4 16\n"
          ],
          "name": "stdout"
        }
      ]
    },
    {
      "cell_type": "markdown",
      "metadata": {
        "id": "mK5U1-iD4FGu",
        "colab_type": "text"
      },
      "source": [
        "#what if you want to iterate over two or more sequences? Of course, you can use the\n",
        "range again:"
      ]
    },
    {
      "cell_type": "code",
      "metadata": {
        "id": "OyMNsmRd4IJF",
        "colab_type": "code",
        "colab": {
          "base_uri": "https://localhost:8080/",
          "height": 101
        },
        "outputId": "1ca96171-e2b2-4ca7-e82d-5014b579629b"
      },
      "source": [
        "y = 'abcde'\n",
        "for i in range(len(x)):\n",
        "  print(x[i], y[i])"
      ],
      "execution_count": 20,
      "outputs": [
        {
          "output_type": "stream",
          "text": [
            "1 a\n",
            "2 b\n",
            "4 c\n",
            "8 d\n",
            "16 e\n"
          ],
          "name": "stdout"
        }
      ]
    },
    {
      "cell_type": "markdown",
      "metadata": {
        "id": "Bi1VvjLd4LQx",
        "colab_type": "text"
      },
      "source": [
        "#In this case, Python also offers a better solution. You can apply zip and get tuples of the\n",
        "corresponding items:"
      ]
    },
    {
      "cell_type": "code",
      "metadata": {
        "id": "usDzvGmQ4N1g",
        "colab_type": "code",
        "colab": {
          "base_uri": "https://localhost:8080/",
          "height": 101
        },
        "outputId": "a980da6e-9559-4c43-ef50-8b810d2318f7"
      },
      "source": [
        "for item in zip(x, y):\n",
        "  print(item)"
      ],
      "execution_count": 21,
      "outputs": [
        {
          "output_type": "stream",
          "text": [
            "(1, 'a')\n",
            "(2, 'b')\n",
            "(4, 'c')\n",
            "(8, 'd')\n",
            "(16, 'e')\n"
          ],
          "name": "stdout"
        }
      ]
    },
    {
      "cell_type": "markdown",
      "metadata": {
        "id": "a8wkuDNu4R7J",
        "colab_type": "text"
      },
      "source": [
        "#You can combine it with unpacking:"
      ]
    },
    {
      "cell_type": "code",
      "metadata": {
        "id": "MwUhIj9m4UYZ",
        "colab_type": "code",
        "colab": {
          "base_uri": "https://localhost:8080/",
          "height": 101
        },
        "outputId": "15911ce2-2506-4b01-ced2-bd0a76f15816"
      },
      "source": [
        "for x_item, y_item in zip(x, y):\n",
        "  print(x_item, y_item)\n"
      ],
      "execution_count": 22,
      "outputs": [
        {
          "output_type": "stream",
          "text": [
            "1 a\n",
            "2 b\n",
            "4 c\n",
            "8 d\n",
            "16 e\n"
          ],
          "name": "stdout"
        }
      ]
    },
    {
      "cell_type": "markdown",
      "metadata": {
        "id": "VNMxz8CA4YeT",
        "colab_type": "text"
      },
      "source": [
        "#Dictionary can be iterated in these two ways"
      ]
    },
    {
      "cell_type": "code",
      "metadata": {
        "id": "UMLW2wIx4bkz",
        "colab_type": "code",
        "colab": {
          "base_uri": "https://localhost:8080/",
          "height": 51
        },
        "outputId": "cb98b1dc-8583-4bf4-a266-0f41e6b14b6f"
      },
      "source": [
        "z = {'a': 0, 'b': 1}\n",
        "for k in z:\n",
        "  print(k, z[k])"
      ],
      "execution_count": 23,
      "outputs": [
        {
          "output_type": "stream",
          "text": [
            "a 0\n",
            "b 1\n"
          ],
          "name": "stdout"
        }
      ]
    },
    {
      "cell_type": "markdown",
      "metadata": {
        "id": "5y49Dx4d4eEl",
        "colab_type": "text"
      },
      "source": [
        "#Comparing to Zero"
      ]
    },
    {
      "cell_type": "code",
      "metadata": {
        "id": "Trzose1X4hTe",
        "colab_type": "code",
        "colab": {
          "base_uri": "https://localhost:8080/",
          "height": 84
        },
        "outputId": "e1f03a86-36f8-4b26-e24a-a39a9c6da7a6"
      },
      "source": [
        "#To print only non zero values from tuple x\n",
        "x = (1, 2, 0, 3, 0, 4)\n",
        "for item in x:\n",
        "    if item != 0:\n",
        "      print(item)"
      ],
      "execution_count": 24,
      "outputs": [
        {
          "output_type": "stream",
          "text": [
            "1\n",
            "2\n",
            "3\n",
            "4\n"
          ],
          "name": "stdout"
        }
      ]
    },
    {
      "cell_type": "markdown",
      "metadata": {
        "id": "bb-Ztlhv4lFd",
        "colab_type": "text"
      },
      "source": [
        "#The Pythonic way is to exploit the fact that zero is interpreted as False in a Boolean\n",
        "context, while all other numbers are considered as True:"
      ]
    },
    {
      "cell_type": "code",
      "metadata": {
        "id": "I4MtVCqv4oCv",
        "colab_type": "code",
        "colab": {
          "base_uri": "https://localhost:8080/",
          "height": 84
        },
        "outputId": "f51011e2-fc8f-453f-f564-4746d2cebbdf"
      },
      "source": [
        "\n",
        "for item in x:\n",
        "  if item:\n",
        "    print(item)"
      ],
      "execution_count": 27,
      "outputs": [
        {
          "output_type": "stream",
          "text": [
            "1\n",
            "2\n",
            "3\n",
            "4\n"
          ],
          "name": "stdout"
        }
      ]
    },
    {
      "cell_type": "markdown",
      "metadata": {
        "id": "YATYwjMf444s",
        "colab_type": "text"
      },
      "source": [
        "#Avoiding Mutable Optional Arguments"
      ]
    },
    {
      "cell_type": "code",
      "metadata": {
        "id": "y1MEhODd47-W",
        "colab_type": "code",
        "colab": {
          "base_uri": "https://localhost:8080/",
          "height": 34
        },
        "outputId": "b7027031-9a0c-4b20-c19b-c03ec05dd024"
      },
      "source": [
        "def func(value, seq=[]):\n",
        "  seq.append(value)\n",
        "  return seq\n",
        "print(func(value=2))"
      ],
      "execution_count": 28,
      "outputs": [
        {
          "output_type": "stream",
          "text": [
            "[2]\n"
          ],
          "name": "stdout"
        }
      ]
    },
    {
      "cell_type": "markdown",
      "metadata": {
        "id": "kV8L7D3a4-0T",
        "colab_type": "text"
      },
      "source": [
        "#keep away from that with some additional logic"
      ]
    },
    {
      "cell_type": "code",
      "metadata": {
        "id": "_yV55USO5CAS",
        "colab_type": "code",
        "colab": {
          "base_uri": "https://localhost:8080/",
          "height": 34
        },
        "outputId": "2d4c6d1b-3b7d-4ad2-ea6d-c0744aa41627"
      },
      "source": [
        "def func(value, seq=None):\n",
        "  if seq is None:\n",
        "    seq = []\n",
        "    seq.append(value)\n",
        "    return seq\n",
        "print(func(value=6))"
      ],
      "execution_count": 29,
      "outputs": [
        {
          "output_type": "stream",
          "text": [
            "[6]\n"
          ],
          "name": "stdout"
        }
      ]
    }
  ]
}