{
  "nbformat": 4,
  "nbformat_minor": 0,
  "metadata": {
    "colab": {
      "name": "‘Day 1 sesson 2 Exercises’",
      "provenance": [],
      "authorship_tag": "ABX9TyOCdgVmwpHAez02vgpxCFtC",
      "include_colab_link": true
    },
    "kernelspec": {
      "name": "python3",
      "display_name": "Python 3"
    }
  },
  "cells": [
    {
      "cell_type": "markdown",
      "metadata": {
        "id": "view-in-github",
        "colab_type": "text"
      },
      "source": [
        "<a href=\"https://colab.research.google.com/github/nivi-nivedita/python-workshop/blob/master/%E2%80%98Day_1_sesson_2_Exercises%E2%80%99.ipynb\" target=\"_parent\"><img src=\"https://colab.research.google.com/assets/colab-badge.svg\" alt=\"Open In Colab\"/></a>"
      ]
    },
    {
      "cell_type": "markdown",
      "metadata": {
        "id": "V-37Twwjr5Ut",
        "colab_type": "text"
      },
      "source": [
        "#write program to print triangle"
      ]
    },
    {
      "cell_type": "code",
      "metadata": {
        "id": "D34iM-z-txgS",
        "colab_type": "code",
        "colab": {
          "base_uri": "https://localhost:8080/",
          "height": 84
        },
        "outputId": "e19bd7d2-ad14-48d0-a6ae-7100840a6b86"
      },
      "source": [
        "rows = 4\n",
        "for i in range(0, rows):\n",
        "    for j in range(0, i + 1):\n",
        "        print(\"*\", end=' ')\n",
        "\n",
        "    print(\"\\r\")\n"
      ],
      "execution_count": 1,
      "outputs": [
        {
          "output_type": "stream",
          "text": [
            "* \r\n",
            "* * \r\n",
            "* * * \r\n",
            "* * * * \r\n"
          ],
          "name": "stdout"
        }
      ]
    },
    {
      "cell_type": "markdown",
      "metadata": {
        "id": "B_2Pk8JSt4_Y",
        "colab_type": "text"
      },
      "source": [
        "#write program to print triangle"
      ]
    },
    {
      "cell_type": "code",
      "metadata": {
        "id": "0oHHAqX1t9y2",
        "colab_type": "code",
        "colab": {
          "base_uri": "https://localhost:8080/",
          "height": 118
        },
        "outputId": "d5296888-8389-4667-8cc8-690303b338d1"
      },
      "source": [
        "rows = 5\n",
        "for i in range(0, rows + 1):\n",
        "    for j in range(rows - i, 0, -1):\n",
        "        print(j, end=' ')\n",
        "    print()"
      ],
      "execution_count": 6,
      "outputs": [
        {
          "output_type": "stream",
          "text": [
            "5 4 3 2 1 \n",
            "4 3 2 1 \n",
            "3 2 1 \n",
            "2 1 \n",
            "1 \n",
            "\n"
          ],
          "name": "stdout"
        }
      ]
    },
    {
      "cell_type": "markdown",
      "metadata": {
        "id": "onqS-eh3vqvj",
        "colab_type": "text"
      },
      "source": [
        "#write program to print triangle"
      ]
    },
    {
      "cell_type": "code",
      "metadata": {
        "id": "LEcc60mkv3ZV",
        "colab_type": "code",
        "colab": {
          "base_uri": "https://localhost:8080/",
          "height": 67
        },
        "outputId": "5e60e3ca-135a-4d57-ae2a-c4c2394d2bcd"
      },
      "source": [
        "currentNumber = 1\n",
        "stop = 2\n",
        "rows = 3  # Rows you want in your pattern\n",
        "\n",
        "for i in range(rows):\n",
        "    for column in range(1, stop):\n",
        "        print(currentNumber, end=' ')\n",
        "        currentNumber += 1\n",
        "    print(\"\")\n",
        "    stop += 2\n",
        "    "
      ],
      "execution_count": 8,
      "outputs": [
        {
          "output_type": "stream",
          "text": [
            "1 \n",
            "2 3 4 \n",
            "5 6 7 8 9 \n"
          ],
          "name": "stdout"
        }
      ]
    },
    {
      "cell_type": "markdown",
      "metadata": {
        "id": "usBelE25zj1h",
        "colab_type": "text"
      },
      "source": [
        "#6 Find the length of a string without using len functions"
      ]
    },
    {
      "cell_type": "code",
      "metadata": {
        "id": "iQsJXaqHzl4k",
        "colab_type": "code",
        "colab": {
          "base_uri": "https://localhost:8080/",
          "height": 51
        },
        "outputId": "ac77b237-39ea-40de-f288-a93bdd2e7d76"
      },
      "source": [
        "# User inputs the string and it gets stored in variable str\n",
        "str = input(\"Enter a string: \")\n",
        "\n",
        "# counter variable to count the character in a string\n",
        "counter = 0\n",
        "for s in str:\n",
        "      counter = counter+1\n",
        "print(\"Length of the input string is:\", counter)"
      ],
      "execution_count": 15,
      "outputs": [
        {
          "output_type": "stream",
          "text": [
            "Enter a string: nivedita\n",
            "Length of the input string is: 8\n"
          ],
          "name": "stdout"
        }
      ]
    },
    {
      "cell_type": "markdown",
      "metadata": {
        "id": "jbYgUjQR0jvz",
        "colab_type": "text"
      },
      "source": [
        "#Find the no of words and characters in a string"
      ]
    },
    {
      "cell_type": "code",
      "metadata": {
        "id": "7AT6N1gK0pnF",
        "colab_type": "code",
        "colab": {
          "base_uri": "https://localhost:8080/",
          "height": 67
        },
        "outputId": "95c44aba-2904-4144-ab13-f3f4ec76f556"
      },
      "source": [
        "word_count = 0\n",
        "char_count = 0\n",
        "\n",
        "usr_input = input(\"Enter a string : \")\n",
        "\n",
        "split_string = usr_input.split()\n",
        "\n",
        "word_count = len(split_string)\n",
        "\n",
        "for word in split_string:\n",
        "    \n",
        "    char_count += len(word)\n",
        "\n",
        "\n",
        "print(\"Total words : {}\".format(word_count))\n",
        "print(\"Total characters : {}\".format(char_count))\n"
      ],
      "execution_count": 22,
      "outputs": [
        {
          "output_type": "stream",
          "text": [
            "Enter a string : well come\n",
            "Total words : 2\n",
            "Total characters : 8\n"
          ],
          "name": "stdout"
        }
      ]
    },
    {
      "cell_type": "markdown",
      "metadata": {
        "id": "NrHkEyPg2qNG",
        "colab_type": "text"
      },
      "source": [
        "#Find the no of occurrences of a word in a string"
      ]
    },
    {
      "cell_type": "code",
      "metadata": {
        "id": "fNdVyFZX2yrF",
        "colab_type": "code",
        "colab": {
          "base_uri": "https://localhost:8080/",
          "height": 34
        },
        "outputId": "ed6acf38-685d-48ed-b23d-cb39c73b5cb6"
      },
      "source": [
        "def word_count(str):\n",
        "    counts = dict()\n",
        "    words = str.split()\n",
        "\n",
        "    for word in words:\n",
        "        if word in counts:\n",
        "            counts[word] += 1\n",
        "        else:\n",
        "            counts[word] = 1\n",
        "\n",
        "    return counts\n",
        "\n",
        "print( word_count('python workshop for four days'))"
      ],
      "execution_count": 26,
      "outputs": [
        {
          "output_type": "stream",
          "text": [
            "{'python': 1, 'workshop': 1, 'for': 1, 'four': 1, 'days': 1}\n"
          ],
          "name": "stdout"
        }
      ]
    }
  ]
}