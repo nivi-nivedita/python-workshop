{
  "nbformat": 4,
  "nbformat_minor": 0,
  "metadata": {
    "colab": {
      "name": "Day 4 session2",
      "provenance": [],
      "authorship_tag": "ABX9TyPw9LQrIaD/P6kqV0xe8KB2",
      "include_colab_link": true
    },
    "kernelspec": {
      "name": "python3",
      "display_name": "Python 3"
    }
  },
  "cells": [
    {
      "cell_type": "markdown",
      "metadata": {
        "id": "view-in-github",
        "colab_type": "text"
      },
      "source": [
        "<a href=\"https://colab.research.google.com/github/nivi-nivedita/python-workshop/blob/master/Day_4_session2.ipynb\" target=\"_parent\"><img src=\"https://colab.research.google.com/assets/colab-badge.svg\" alt=\"Open In Colab\"/></a>"
      ]
    },
    {
      "cell_type": "markdown",
      "metadata": {
        "id": "rrUxb_ssnV12",
        "colab_type": "text"
      },
      "source": [
        "#Writing Pythonic Code"
      ]
    },
    {
      "cell_type": "code",
      "metadata": {
        "id": "wKHyv2nWn-rc",
        "colab_type": "code",
        "colab": {
          "base_uri": "https://localhost:8080/",
          "height": 34
        },
        "outputId": "db34f2fe-aae7-4089-b459-c0c202d8866f"
      },
      "source": [
        "x=[1, 2, 3, 4, 5, 6]\n",
        "result = []\n",
        "for idx in range(len(x)):\n",
        "\tresult.append(x[idx] * 2)\n",
        "print(result)\n",
        "\n"
      ],
      "execution_count": null,
      "outputs": [
        {
          "output_type": "stream",
          "text": [
            "[2, 4, 6, 8, 10, 12]\n"
          ],
          "name": "stdout"
        }
      ]
    },
    {
      "cell_type": "markdown",
      "metadata": {
        "id": "eGfiPiDYocbi",
        "colab_type": "text"
      },
      "source": [
        "#Example #2\n"
      ]
    },
    {
      "cell_type": "code",
      "metadata": {
        "id": "g2qkDiMqohaf",
        "colab_type": "code",
        "colab": {
          "base_uri": "https://localhost:8080/",
          "height": 34
        },
        "outputId": "d5500636-c604-42b9-d3d0-af05c2378b67"
      },
      "source": [
        "x=[1, 2, 3, 4, 5, 6, 7, 8, 9, 10]\n",
        "result = []\n",
        "for idx in range(len(x)):\n",
        "\tif x[idx] % 2 == 0:\n",
        "\t\tresult.append(x[idx] * 2)\n",
        "\telse:\n",
        "\t\tresult.append(x[idx])\n",
        "print(result)\n"
      ],
      "execution_count": null,
      "outputs": [
        {
          "output_type": "stream",
          "text": [
            "[1, 4, 3, 8, 5, 12, 7, 16, 9, 20]\n"
          ],
          "name": "stdout"
        }
      ]
    }
  ]
}