{
  "nbformat": 4,
  "nbformat_minor": 0,
  "metadata": {
    "colab": {
      "name": " Day 3 Session 2 ",
      "provenance": [],
      "collapsed_sections": [],
      "authorship_tag": "ABX9TyOuXsbQwY+8QNc0DBkF45dL",
      "include_colab_link": true
    },
    "kernelspec": {
      "name": "python3",
      "display_name": "Python 3"
    }
  },
  "cells": [
    {
      "cell_type": "markdown",
      "metadata": {
        "id": "view-in-github",
        "colab_type": "text"
      },
      "source": [
        "<a href=\"https://colab.research.google.com/github/nivi-nivedita/python-workshop/blob/master/Day_3_Session_2.ipynb\" target=\"_parent\"><img src=\"https://colab.research.google.com/assets/colab-badge.svg\" alt=\"Open In Colab\"/></a>"
      ]
    },
    {
      "cell_type": "markdown",
      "metadata": {
        "id": "2y1g25cy5YXU",
        "colab_type": "text"
      },
      "source": [
        "#Finding the factorial of a number"
      ]
    },
    {
      "cell_type": "code",
      "metadata": {
        "id": "6n7rdctv5ZUl",
        "colab_type": "code",
        "colab": {
          "base_uri": "https://localhost:8080/",
          "height": 67
        },
        "outputId": "70fa4cda-81c7-4af3-8322-0b8b9f86e35d"
      },
      "source": [
        "#Python Program to find the factorial of a number using loop. \n",
        "n=int(input(\"Enter number:\"))\n",
        "fact=1\n",
        "while(n>0):\n",
        "    fact=fact*n\n",
        "    n=n-1\n",
        "print(\"Factorial of the number is: \")\n",
        "print(fact)"
      ],
      "execution_count": 1,
      "outputs": [
        {
          "output_type": "stream",
          "text": [
            "Enter number:4\n",
            "Factorial of the number is: \n",
            "24\n"
          ],
          "name": "stdout"
        }
      ]
    },
    {
      "cell_type": "markdown",
      "metadata": {
        "id": "TpjMZiMY6-jS",
        "colab_type": "text"
      },
      "source": [
        "#Program for multiples of 2 of a list without list comprehension"
      ]
    },
    {
      "cell_type": "code",
      "metadata": {
        "id": "CQdVUQv27A-e",
        "colab_type": "code",
        "colab": {
          "base_uri": "https://localhost:8080/",
          "height": 34
        },
        "outputId": "bac7d346-6917-45fe-e55a-e76d18afe484"
      },
      "source": [
        "x=[1, 2, 3, 4, 5, 6]\n",
        "result = []\n",
        "for idx in range(len(x)):\n",
        "  result.append(x[idx] * 2)\n",
        "print(result)"
      ],
      "execution_count": 2,
      "outputs": [
        {
          "output_type": "stream",
          "text": [
            "[2, 4, 6, 8, 10, 12]\n"
          ],
          "name": "stdout"
        }
      ]
    },
    {
      "cell_type": "markdown",
      "metadata": {
        "id": "KDYrq6AP7GHM",
        "colab_type": "text"
      },
      "source": [
        "#Single line program of Pythonic coding"
      ]
    },
    {
      "cell_type": "code",
      "metadata": {
        "id": "YNLKiDKW7Jh1",
        "colab_type": "code",
        "colab": {
          "base_uri": "https://localhost:8080/",
          "height": 34
        },
        "outputId": "2d16a6b8-01cf-4c86-f2f6-a04ebed4ac4f"
      },
      "source": [
        "print([i*2 for i in [1, 2, 3, 4, 5, 6] ])"
      ],
      "execution_count": 3,
      "outputs": [
        {
          "output_type": "stream",
          "text": [
            "[2, 4, 6, 8, 10, 12]\n"
          ],
          "name": "stdout"
        }
      ]
    },
    {
      "cell_type": "markdown",
      "metadata": {
        "id": "sDsEM2aC7M6W",
        "colab_type": "text"
      },
      "source": [
        "#More Pythonic program of 3 lines!"
      ]
    },
    {
      "cell_type": "code",
      "metadata": {
        "id": "2MGxgSyj7RAn",
        "colab_type": "code",
        "colab": {
          "base_uri": "https://localhost:8080/",
          "height": 51
        },
        "outputId": "2357456e-3137-4d1f-da23-45e07182e723"
      },
      "source": [
        "from functools import reduce\n",
        "sequences = [x for x in range(1,int(input('Enter no'))+1)]\n",
        "product = reduce(lambda x, y: x*y, sequences)\n",
        "print(product)"
      ],
      "execution_count": 4,
      "outputs": [
        {
          "output_type": "stream",
          "text": [
            "Enter no5\n",
            "120\n"
          ],
          "name": "stdout"
        }
      ]
    },
    {
      "cell_type": "markdown",
      "metadata": {
        "id": "BjQHaDkO7Vuo",
        "colab_type": "text"
      },
      "source": [
        "#Number and its square as Tuple for a range"
      ]
    },
    {
      "cell_type": "code",
      "metadata": {
        "id": "6PqzZEXF7Y1P",
        "colab_type": "code",
        "colab": {
          "base_uri": "https://localhost:8080/",
          "height": 67
        },
        "outputId": "c6ef51c9-61c6-4ca3-e81e-9a68f5e23fbc"
      },
      "source": [
        "l_range=int(input(\"Enter the lower range:\"))\n",
        "u_range=int(input(\"Enter the upper range:\"))\n",
        "a=[(x,x**2) for x in range(l_range,u_range+1)]\n",
        "print(a)\n"
      ],
      "execution_count": 5,
      "outputs": [
        {
          "output_type": "stream",
          "text": [
            "Enter the lower range:10\n",
            "Enter the upper range:8\n",
            "[]\n"
          ],
          "name": "stdout"
        }
      ]
    },
    {
      "cell_type": "markdown",
      "metadata": {
        "id": "WT6zBg_q7d12",
        "colab_type": "text"
      },
      "source": [
        "#More Pythonic program of 2 lines!"
      ]
    },
    {
      "cell_type": "code",
      "metadata": {
        "id": "AHPbagNS7gsw",
        "colab_type": "code",
        "colab": {
          "base_uri": "https://localhost:8080/",
          "height": 67
        },
        "outputId": "4ad5d8d3-a27f-43e0-c735-4aae240ac74f"
      },
      "source": [
        "print([(x,x**2) for x in range(int(input(\"Enter the lower range:\")),\\\n",
        "                           int(input(\"Enter the upper range:\"))+1)])"
      ],
      "execution_count": 6,
      "outputs": [
        {
          "output_type": "stream",
          "text": [
            "Enter the lower range:5\n",
            "Enter the upper range:10\n",
            "[(5, 25), (6, 36), (7, 49), (8, 64), (9, 81), (10, 100)]\n"
          ],
          "name": "stdout"
        }
      ]
    },
    {
      "cell_type": "markdown",
      "metadata": {
        "id": "shYChxpH7n6S",
        "colab_type": "text"
      },
      "source": [
        "#Finding the perfect squares"
      ]
    },
    {
      "cell_type": "code",
      "metadata": {
        "id": "E3wJDTYq7qna",
        "colab_type": "code",
        "colab": {
          "base_uri": "https://localhost:8080/",
          "height": 34
        },
        "outputId": "62537738-ae97-46be-91da-c7a76b46c175"
      },
      "source": [
        "from math import *\n",
        "sequences = [10,2,8,7,5,4,3,11,0,9,16,1]\n",
        "result=[]\n",
        "for i in sequences:\n",
        "  if int(sqrt(i))**2==i:\n",
        "    result.append(i)\n",
        "print(result)\n"
      ],
      "execution_count": 7,
      "outputs": [
        {
          "output_type": "stream",
          "text": [
            "[4, 0, 9, 16, 1]\n"
          ],
          "name": "stdout"
        }
      ]
    },
    {
      "cell_type": "markdown",
      "metadata": {
        "id": "7FSjFtVA7t0S",
        "colab_type": "text"
      },
      "source": [
        "#Pythonic program of 3 lines!"
      ]
    },
    {
      "cell_type": "code",
      "metadata": {
        "id": "3OBMSANm7wcy",
        "colab_type": "code",
        "colab": {
          "base_uri": "https://localhost:8080/",
          "height": 34
        },
        "outputId": "2c855c9d-a6c6-4e3b-f8a2-135809c5f2a0"
      },
      "source": [
        "sequences = [10,2,8,7,5,4,3,11,0,9,16,1]\n",
        "filtered_result = filter(lambda x: int(sqrt(x))**2==x, sequences) \n",
        "print(list(filtered_result))"
      ],
      "execution_count": 8,
      "outputs": [
        {
          "output_type": "stream",
          "text": [
            "[4, 0, 9, 16, 1]\n"
          ],
          "name": "stdout"
        }
      ]
    },
    {
      "cell_type": "markdown",
      "metadata": {
        "id": "s3owvluV7zWT",
        "colab_type": "text"
      },
      "source": [
        "#Program to nd the largest number in a list"
      ]
    },
    {
      "cell_type": "code",
      "metadata": {
        "id": "EuMp0FcE74Ri",
        "colab_type": "code",
        "colab": {
          "base_uri": "https://localhost:8080/",
          "height": 135
        },
        "outputId": "e4227565-1ef1-459b-c441-93a5e6a91b11"
      },
      "source": [
        "a=[]\n",
        "n=int(input(\"Enter number of elements:\"))\n",
        "for i in range(1,n+1):\n",
        "    b=int(input(\"Enter element:\"))\n",
        "    a.append(b)\n",
        "a.sort()\n",
        "print(\"Largest element is:\",a[n-1])"
      ],
      "execution_count": 9,
      "outputs": [
        {
          "output_type": "stream",
          "text": [
            "Enter number of elements:5\n",
            "Enter element:8\n",
            "Enter element:7\n",
            "Enter element:6\n",
            "Enter element:9\n",
            "Enter element:3\n",
            "Largest element is: 9\n"
          ],
          "name": "stdout"
        }
      ]
    },
    {
      "cell_type": "markdown",
      "metadata": {
        "id": "bP3--iOL7-o1",
        "colab_type": "text"
      },
      "source": [
        "#Try this More pythonic 2 lines program equivalent to above codings as shown below !"
      ]
    },
    {
      "cell_type": "code",
      "metadata": {
        "id": "_iTwWC6R8BkW",
        "colab_type": "code",
        "colab": {
          "base_uri": "https://localhost:8080/",
          "height": 84
        },
        "outputId": "33d6fe68-bf62-450c-f1fa-046d9759c873"
      },
      "source": [
        "x=0\n",
        "print('The greatest no is',max([int(input(x)) for _ in range(int(input(\"Enter no\")))]))"
      ],
      "execution_count": 10,
      "outputs": [
        {
          "output_type": "stream",
          "text": [
            "Enter no2\n",
            "5\n",
            "5\n",
            "The greatest no is 5\n"
          ],
          "name": "stdout"
        }
      ]
    },
    {
      "cell_type": "markdown",
      "metadata": {
        "id": "Vu7WsBSd8I9W",
        "colab_type": "text"
      },
      "source": [
        "#Program to put the even and odd elements in a list into two different lists"
      ]
    },
    {
      "cell_type": "code",
      "metadata": {
        "id": "yyno_d4G8MHb",
        "colab_type": "code",
        "colab": {
          "base_uri": "https://localhost:8080/",
          "height": 118
        },
        "outputId": "a9bad279-75bb-4039-82b8-0d9f2686cc49"
      },
      "source": [
        "a=[]\n",
        "n=int(input(\"Enter number of elements:\"))\n",
        "for i in range(1,n+1):\n",
        "    b=int(input(\"Enter element:\"))\n",
        "    a.append(b)\n",
        "even=[]\n",
        "odd=[]\n",
        "for j in a:\n",
        "    if(j%2==0):\n",
        "        even.append(j)\n",
        "    else:\n",
        "        odd.append(j)\n",
        "print(\"The even list\",even)\n",
        "print(\"The odd list\",odd)"
      ],
      "execution_count": 12,
      "outputs": [
        {
          "output_type": "stream",
          "text": [
            "Enter number of elements:3\n",
            "Enter element:8\n",
            "Enter element:9\n",
            "Enter element:8\n",
            "The even list [8, 8]\n",
            "The odd list [9]\n"
          ],
          "name": "stdout"
        }
      ]
    },
    {
      "cell_type": "markdown",
      "metadata": {
        "id": "WVWfsIpC8Tiz",
        "colab_type": "text"
      },
      "source": [
        "#Instead of forementioned 14 lines program, the equivalent 4 lines"
      ]
    },
    {
      "cell_type": "code",
      "metadata": {
        "id": "IrSTDHZD8Wgc",
        "colab_type": "code",
        "colab": {
          "base_uri": "https://localhost:8080/",
          "height": 101
        },
        "outputId": "e160ba2e-c70e-442e-8779-6878567d2168"
      },
      "source": [
        "x=0\n",
        "l=[int(input(x)) for _ in range(int(input(\"Enter n\")))]\n",
        "print('odd list is',[ i for i in l if i%2])\n",
        "print('even list is',[i for i in l if not i%2])"
      ],
      "execution_count": 13,
      "outputs": [
        {
          "output_type": "stream",
          "text": [
            "Enter n2\n",
            "8\n",
            "5\n",
            "odd list is [5]\n",
            "even list is [8]\n"
          ],
          "name": "stdout"
        }
      ]
    },
    {
      "cell_type": "markdown",
      "metadata": {
        "id": "vSXwwsWO8bmS",
        "colab_type": "text"
      },
      "source": [
        "#Python Program to merge two lists and sort it."
      ]
    },
    {
      "cell_type": "code",
      "metadata": {
        "id": "Y8l01UM78eqk",
        "colab_type": "code",
        "colab": {
          "base_uri": "https://localhost:8080/",
          "height": 152
        },
        "outputId": "2ba0fa58-63bb-44fe-dc62-3ffed06ac59c"
      },
      "source": [
        "a=[]\n",
        "c=[]\n",
        "n1=int(input(\"Enter number of elements:\"))\n",
        "for i in range(1,n1+1):\n",
        "    b=int(input(\"Enter element:\"))\n",
        "    a.append(b)\n",
        "n2=int(input(\"Enter number of elements:\"))\n",
        "for i in range(1,n2+1):\n",
        "    d=int(input(\"Enter element:\"))\n",
        "    c.append(d)\n",
        "new=a+c\n",
        "new.sort()\n",
        "print(\"Sorted list is:\",new)"
      ],
      "execution_count": 14,
      "outputs": [
        {
          "output_type": "stream",
          "text": [
            "Enter number of elements:3\n",
            "Enter element:6\n",
            "Enter element:8\n",
            "Enter element:9\n",
            "Enter number of elements:2\n",
            "Enter element:8\n",
            "Enter element:5\n",
            "Sorted list is: [5, 6, 8, 8, 9]\n"
          ],
          "name": "stdout"
        }
      ]
    },
    {
      "cell_type": "markdown",
      "metadata": {
        "id": "3SrcQHKh8l3y",
        "colab_type": "text"
      },
      "source": [
        "#Instead of forementioned 13 lines program, the equivalent 5 lines !"
      ]
    },
    {
      "cell_type": "code",
      "metadata": {
        "id": "B84oZeN_8o6t",
        "colab_type": "code",
        "colab": {
          "base_uri": "https://localhost:8080/",
          "height": 152
        },
        "outputId": "9dd5c66a-f489-43da-efcf-4237345cc35b"
      },
      "source": [
        "x=0\n",
        "l=[int(input(x)) for _ in range(int(input(\"Enter how many elements\")))]\n",
        "m=[int(input(x)) for _ in range(int(input(\"Enter how many elements \")))]\n",
        "new=l+m\n",
        "new.sort()\n",
        "print(\"Sorted list is:\",new)"
      ],
      "execution_count": 15,
      "outputs": [
        {
          "output_type": "stream",
          "text": [
            "Enter how many elements3\n",
            "8\n",
            "6\n",
            "9\n",
            "Enter how many elements 2\n",
            "8\n",
            "5\n",
            "Sorted list is: [5, 6, 8, 8, 9]\n"
          ],
          "name": "stdout"
        }
      ]
    },
    {
      "cell_type": "markdown",
      "metadata": {
        "id": "hRJTO68x8wCu",
        "colab_type": "text"
      },
      "source": [
        "#Instead of forementioned 8 lines program, the equivalent 3 lines "
      ]
    },
    {
      "cell_type": "code",
      "metadata": {
        "id": "xU6Tqk7m8zsW",
        "colab_type": "code",
        "colab": {
          "base_uri": "https://localhost:8080/",
          "height": 34
        },
        "outputId": "d34dfca6-20ce-4afa-df68-e8dd715b2ab3"
      },
      "source": [
        "a=[['A',34],['B',21],['C',26],['E',29]]\n",
        "a.sort(key = lambda x: x[1]) \n",
        "print(a)\n"
      ],
      "execution_count": 16,
      "outputs": [
        {
          "output_type": "stream",
          "text": [
            "[['B', 21], ['C', 26], ['E', 29], ['A', 34]]\n"
          ],
          "name": "stdout"
        }
      ]
    },
    {
      "cell_type": "markdown",
      "metadata": {
        "id": "d2YJ5WEg82k2",
        "colab_type": "text"
      },
      "source": [
        "#```````1`````````````````````Instead of forementioned 12 lines program, the equivalent 4 lines progam "
      ]
    },
    {
      "cell_type": "code",
      "metadata": {
        "id": "gH_FeGjy9MPI",
        "colab_type": "code",
        "colab": {
          "base_uri": "https://localhost:8080/",
          "height": 84
        },
        "outputId": "86d1419b-7d01-455c-ba8d-e978d8f18522"
      },
      "source": [
        "x=0\n",
        "l=[int(input(x)) for _ in range(int(input(\"Enter how many elements\")))]\n",
        "l.sort()\n",
        "print(\"Second largest element is :\",l[-2])"
      ],
      "execution_count": 18,
      "outputs": [
        {
          "output_type": "stream",
          "text": [
            "Enter how many elements2\n",
            "8\n",
            "7\n",
            "Second largest element is : 7\n"
          ],
          "name": "stdout"
        }
      ]
    },
    {
      "cell_type": "markdown",
      "metadata": {
        "id": "3yG9Bw9k9YE3",
        "colab_type": "text"
      },
      "source": [
        "#Program to create a list of tuples with the rst element as the number and the second\n",
        "element as the square of the number"
      ]
    },
    {
      "cell_type": "code",
      "metadata": {
        "id": "gTGe0tdG9bp_",
        "colab_type": "code",
        "colab": {
          "base_uri": "https://localhost:8080/",
          "height": 67
        },
        "outputId": "d40db356-1bb9-4290-f96b-ee9016ae0b8c"
      },
      "source": [
        "l_range=int(input(\"Enter the lower range:\"))\n",
        "u_range=int(input(\"Enter the upper range:\"))\n",
        "a=[(x,x**2) for x in range(l_range,u_range+1)]\n",
        "print(a)"
      ],
      "execution_count": 19,
      "outputs": [
        {
          "output_type": "stream",
          "text": [
            "Enter the lower range:4\n",
            "Enter the upper range:8\n",
            "[(4, 16), (5, 25), (6, 36), (7, 49), (8, 64)]\n"
          ],
          "name": "stdout"
        }
      ]
    },
    {
      "cell_type": "markdown",
      "metadata": {
        "id": "1VUZqtB29gUe",
        "colab_type": "text"
      },
      "source": [
        "#The aforementioned program is already pythonic"
      ]
    },
    {
      "cell_type": "code",
      "metadata": {
        "id": "KDFB4xaz9k0U",
        "colab_type": "code",
        "colab": {
          "base_uri": "https://localhost:8080/",
          "height": 67
        },
        "outputId": "005ad105-02fc-460c-cf1b-504642728439"
      },
      "source": [
        "a=[(x,x**2) for x in range(int(input(\"Enter the lower range:\")),\\\n",
        "                           int(input(\"Enter the upper range:\"))+1)]\n",
        "print(a)\n"
      ],
      "execution_count": 20,
      "outputs": [
        {
          "output_type": "stream",
          "text": [
            "Enter the lower range:4\n",
            "Enter the upper range:9\n",
            "[(4, 16), (5, 25), (6, 36), (7, 49), (8, 64), (9, 81)]\n"
          ],
          "name": "stdout"
        }
      ]
    },
    {
      "cell_type": "markdown",
      "metadata": {
        "id": "kiTfsJAu9p13",
        "colab_type": "text"
      },
      "source": [
        "#Of course, We can write in the most pythonic way with one line ! as follows"
      ]
    },
    {
      "cell_type": "code",
      "metadata": {
        "id": "-EOJV_cp9u2w",
        "colab_type": "code",
        "colab": {
          "base_uri": "https://localhost:8080/",
          "height": 67
        },
        "outputId": "dda9d02e-5447-41cb-c67d-b87ca1d583f6"
      },
      "source": [
        "print([(x,x**2) for x in range(int(input(\"Enter the lower range:\")),\\\n",
        "                           int(input(\"Enter the upper range:\"))+1)])\n"
      ],
      "execution_count": 21,
      "outputs": [
        {
          "output_type": "stream",
          "text": [
            "Enter the lower range:5\n",
            "Enter the upper range:7\n",
            "[(5, 25), (6, 36), (7, 49)]\n"
          ],
          "name": "stdout"
        }
      ]
    },
    {
      "cell_type": "markdown",
      "metadata": {
        "id": "DXaxB_V99zS7",
        "colab_type": "text"
      },
      "source": [
        "#Program to generate random numbers from 1 to 20 and append them to the list"
      ]
    },
    {
      "cell_type": "code",
      "metadata": {
        "id": "mnyrsIgT92sq",
        "colab_type": "code",
        "colab": {
          "base_uri": "https://localhost:8080/",
          "height": 51
        },
        "outputId": "6aa77ac6-2ab8-4429-d35b-18cbcfc56d12"
      },
      "source": [
        "import random\n",
        "a=[]\n",
        "n=int(input(\"Enter number of elements:\"))\n",
        "for j in range(n):\n",
        "    a.append(random.randint(1,20))\n",
        "print('Randomised list is: ',a)\n"
      ],
      "execution_count": 22,
      "outputs": [
        {
          "output_type": "stream",
          "text": [
            "Enter number of elements:3\n",
            "Randomised list is:  [18, 10, 19]\n"
          ],
          "name": "stdout"
        }
      ]
    },
    {
      "cell_type": "markdown",
      "metadata": {
        "id": "yIHEiyDW99Fu",
        "colab_type": "text"
      },
      "source": [
        "#Pythonic program of 2 lines!\n"
      ]
    },
    {
      "cell_type": "code",
      "metadata": {
        "id": "gwUnptNJ9_yA",
        "colab_type": "code",
        "colab": {
          "base_uri": "https://localhost:8080/",
          "height": 51
        },
        "outputId": "84e51c73-3a2c-4f58-dea0-f90718ac2763"
      },
      "source": [
        "import random\n",
        "l=[random.randint(1,20) for _ in range(int(input(\"Enter how many elements\")))]\n",
        "print('Randomised list is: ',l)"
      ],
      "execution_count": 23,
      "outputs": [
        {
          "output_type": "stream",
          "text": [
            "Enter how many elements5\n",
            "Randomised list is:  [13, 14, 5, 20, 3]\n"
          ],
          "name": "stdout"
        }
      ]
    },
    {
      "cell_type": "markdown",
      "metadata": {
        "id": "1g1VgMEf-DRG",
        "colab_type": "text"
      },
      "source": [
        "#Program for printing list of values with indexing"
      ]
    },
    {
      "cell_type": "code",
      "metadata": {
        "id": "pb8jbrK8-IMV",
        "colab_type": "code",
        "colab": {
          "base_uri": "https://localhost:8080/",
          "height": 219
        },
        "outputId": "de21d697-1f92-47ec-f0f6-8552d485c257"
      },
      "source": [
        "names = ['Jan','Feb','Mar','Apr','May','Jun','Jul','Aug','Sep','Oct','Nov','Dec']\n",
        "index=0\n",
        "for i in names:\n",
        "    print(str(index)+\":\"+i)\n",
        "    index=index+1"
      ],
      "execution_count": 24,
      "outputs": [
        {
          "output_type": "stream",
          "text": [
            "0:Jan\n",
            "1:Feb\n",
            "2:Mar\n",
            "3:Apr\n",
            "4:May\n",
            "5:Jun\n",
            "6:Jul\n",
            "7:Aug\n",
            "8:Sep\n",
            "9:Oct\n",
            "10:Nov\n",
            "11:Dec\n"
          ],
          "name": "stdout"
        }
      ]
    },
    {
      "cell_type": "markdown",
      "metadata": {
        "id": "Zdsas70e-LaR",
        "colab_type": "text"
      },
      "source": [
        "#using Pythonic way using enumerate()"
      ]
    },
    {
      "cell_type": "code",
      "metadata": {
        "id": "NmhKdzEf-N8k",
        "colab_type": "code",
        "colab": {
          "base_uri": "https://localhost:8080/",
          "height": 219
        },
        "outputId": "8fffb8fe-6540-43bd-b4d7-234c2f8aa0aa"
      },
      "source": [
        "names = ['Jan','Feb','Mar','Apr','May','Jun','Jul','Aug','Sep','Oct','Nov','Dec']\n",
        "for index, value in enumerate(names):\n",
        "    print(f'{index+1}: {value}')"
      ],
      "execution_count": 25,
      "outputs": [
        {
          "output_type": "stream",
          "text": [
            "1: Jan\n",
            "2: Feb\n",
            "3: Mar\n",
            "4: Apr\n",
            "5: May\n",
            "6: Jun\n",
            "7: Jul\n",
            "8: Aug\n",
            "9: Sep\n",
            "10: Oct\n",
            "11: Nov\n",
            "12: Dec\n"
          ],
          "name": "stdout"
        }
      ]
    }
  ]
}