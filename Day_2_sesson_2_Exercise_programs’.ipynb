{
  "nbformat": 4,
  "nbformat_minor": 0,
  "metadata": {
    "colab": {
      "name": "Day 2 sesson 2 Exercise programs’",
      "provenance": [],
      "authorship_tag": "ABX9TyNUGBvnNZN4j82+Vc4RKeyQ",
      "include_colab_link": true
    },
    "kernelspec": {
      "name": "python3",
      "display_name": "Python 3"
    }
  },
  "cells": [
    {
      "cell_type": "markdown",
      "metadata": {
        "id": "view-in-github",
        "colab_type": "text"
      },
      "source": [
        "<a href=\"https://colab.research.google.com/github/nivi-nivedita/python-workshop/blob/master/Day_2_sesson_2_Exercise_programs%E2%80%99.ipynb\" target=\"_parent\"><img src=\"https://colab.research.google.com/assets/colab-badge.svg\" alt=\"Open In Colab\"/></a>"
      ]
    },
    {
      "cell_type": "markdown",
      "metadata": {
        "id": "ZMi10FZeT81K",
        "colab_type": "text"
      },
      "source": [
        "#5.\tPython program to convert a 3 digit number  into words"
      ]
    },
    {
      "cell_type": "code",
      "metadata": {
        "id": "ZUXX9T2eUBRY",
        "colab_type": "code",
        "colab": {
          "base_uri": "https://localhost:8080/",
          "height": 34
        },
        "outputId": "532fa217-fd7c-4a50-b33d-5a49f226f7d6"
      },
      "source": [
        "one = [ \"\", \"one \", \"two \", \"three \", \"four \", \n",
        "        \"five \", \"six \", \"seven \", \"eight \", \n",
        "        \"nine \", \"ten \", \"eleven \", \"twelve \", \n",
        "        \"thirteen \", \"fourteen \", \"fifteen \", \n",
        "        \"sixteen \", \"seventeen \", \"eighteen \", \n",
        "        \"nineteen \"]; \n",
        "  \n",
        "# strings at index 0 and 1 are not used,  \n",
        "# they is to make array indexing simple \n",
        "ten = [ \"\", \"\", \"twenty \", \"thirty \", \"forty \", \n",
        "        \"fifty \", \"sixty \", \"seventy \", \"eighty \", \n",
        "        \"ninety \"]; \n",
        "  \n",
        "# n is 1- or 2-digit number \n",
        "def numToWords(n, s): \n",
        "  \n",
        "    str = \"\"; \n",
        "      \n",
        "    # if n is more than 19, divide it \n",
        "    if (n > 19): \n",
        "        str += ten[n // 10] + one[n % 10]; \n",
        "    else: \n",
        "        str += one[n]; \n",
        "  \n",
        "    # if n is non-zero \n",
        "    if (n): \n",
        "        str += s; \n",
        "  \n",
        "    return str; \n",
        "  \n",
        "# Function to print a given number in words \n",
        "def convertToWords(n): \n",
        "  \n",
        "    # stores word representation of given  \n",
        "    # number n \n",
        "    out = \"\"; \n",
        "  \n",
        "    # handles digits at ten millions and  \n",
        "    # hundred millions places (if any) \n",
        "    out += numToWords((n // 10000000),  \n",
        "                            \"crore \"); \n",
        "  \n",
        "    # handles digits at hundred thousands  \n",
        "    # and one millions places (if any) \n",
        "    out += numToWords(((n // 100000) % 100), \n",
        "                                   \"lakh \"); \n",
        "  \n",
        "    # handles digits at thousands and tens  \n",
        "    # thousands places (if any) \n",
        "    out += numToWords(((n // 1000) % 100),  \n",
        "                             \"thousand \"); \n",
        "  \n",
        "    # handles digit at hundreds places (if any) \n",
        "    out += numToWords(((n // 100) % 10),  \n",
        "                            \"hundred \"); \n",
        "  \n",
        "    if (n > 100 and n % 100): \n",
        "        out += \"and \"; \n",
        "  \n",
        "    # handles digits at ones and tens \n",
        "    # places (if any) \n",
        "    out += numToWords((n % 100), \"\"); \n",
        "  \n",
        "    return out; \n",
        "  \n",
        "# Driver code \n",
        "  \n",
        "# long handles upto 9 digit no \n",
        "# change to unsigned long long  \n",
        "# int to handle more digit number \n",
        "n = 438237764; \n",
        "  \n",
        "# convert given number in words \n",
        "print(convertToWords(n)); "
      ],
      "execution_count": 1,
      "outputs": [
        {
          "output_type": "stream",
          "text": [
            "forty three crore eighty two lakh thirty seven thousand seven hundred and sixty four \n"
          ],
          "name": "stdout"
        }
      ]
    },
    {
      "cell_type": "markdown",
      "metadata": {
        "id": "oHyzJiLIUuvb",
        "colab_type": "text"
      },
      "source": [
        "#4.\tAdd name and salary {name:salary} for n number of employees through keyboard in a dictionary and print only the employees whose salary is greater than 2000 but less than 4000"
      ]
    },
    {
      "cell_type": "code",
      "metadata": {
        "id": "i_qofsh-VCrc",
        "colab_type": "code",
        "colab": {
          "base_uri": "https://localhost:8080/",
          "height": 135
        },
        "outputId": "1b84ccac-7c05-484b-a849-04197814dd66"
      },
      "source": [
        "n=int(input(\"Enter no of name\"))\n",
        "d={}\n",
        "for i in range(1,n+1):\n",
        "    name= input(\"Enter name %d\"%(i))\n",
        "    salary=int(input(\"Enter salary %d\"%(i)))\n",
        "    d[name]=salary\n",
        "    print (d)\n",
        "    "
      ],
      "execution_count": 9,
      "outputs": [
        {
          "output_type": "stream",
          "text": [
            "Enter no of name2\n",
            "Enter name 1kj\n",
            "Enter salary 1456\n",
            "{'kj': 456}\n",
            "Enter name 2oi\n",
            "Enter salary 286\n",
            "{'kj': 456, 'oi': 86}\n"
          ],
          "name": "stdout"
        }
      ]
    },
    {
      "cell_type": "markdown",
      "metadata": {
        "id": "s8WEV2IPXdlV",
        "colab_type": "text"
      },
      "source": [
        "#"
      ]
    }
  ]
}